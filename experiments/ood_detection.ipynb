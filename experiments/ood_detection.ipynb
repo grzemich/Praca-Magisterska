{
  "cells": [
    {
      "cell_type": "markdown",
      "id": "a32f53c5",
      "metadata": {
        "id": "a32f53c5"
      },
      "source": [
        "# Detekcja danych spoza rozkładu (OOD Detection – ImageNet-O)"
      ]
    },
    {
      "cell_type": "markdown",
      "id": "7629a67a",
      "metadata": {
        "id": "7629a67a"
      },
      "source": [
        "## Instalacja bibliotek"
      ]
    },
    {
      "cell_type": "code",
      "execution_count": null,
      "id": "aab52f0f",
      "metadata": {
        "colab": {
          "base_uri": "https://localhost:8080/",
          "height": 1000
        },
        "id": "aab52f0f",
        "outputId": "bb6250d4-690d-4e39-c948-9e61a4394ea6"
      },
      "outputs": [],
      "source": [
        "import torch\n",
        "device = torch.device(\"cuda\" if torch.cuda.is_available() else \"cpu\")\n",
        "print(f\"Using device: {device}\")\n",
        "\n",
        "!pip install pytorch_lightning torchvision codecarbon scikit-learn ood-metrics"
      ]
    },
    {
      "cell_type": "markdown",
      "id": "0ba648b4",
      "metadata": {
        "id": "0ba648b4"
      },
      "source": [
        "## Pobranie danych"
      ]
    },
    {
      "cell_type": "code",
      "execution_count": null,
      "id": "7684448c",
      "metadata": {
        "colab": {
          "base_uri": "https://localhost:8080/",
          "height": 1000
        },
        "id": "7684448c",
        "outputId": "c294e6d6-8153-4d35-858d-505c7c5d3aad"
      },
      "outputs": [],
      "source": [
        "from google.colab import drive, files\n",
        "files.upload() # Służy do umieszczenia pliku kaggle.json\n",
        "drive.mount('/content/drive')\n",
        "\n",
        "!mkdir -p ~/.kaggle\n",
        "!mv /content/kaggle.json ~/.kaggle/\n",
        "!chmod 600 ~/.kaggle/kaggle.json\n",
        "!kaggle datasets download sautkin/imagenet1kvalid\n",
        "!unzip -q /content/imagenet1kvalid.zip -d /content/imagenet1kv1_valid\n",
        "\n",
        "!mkdir -p /content/ood\n",
        "!tar -xvf /content/drive/MyDrive/imagenet-o.tar -C /content/ood\n"
      ]
    },
    {
      "cell_type": "markdown",
      "id": "29e29f6c",
      "metadata": {
        "id": "29e29f6c"
      },
      "source": [
        "## Importy i konfiguracja"
      ]
    },
    {
      "cell_type": "code",
      "execution_count": null,
      "id": "2c6e4428",
      "metadata": {
        "id": "2c6e4428"
      },
      "outputs": [],
      "source": [
        "import numpy as np\n",
        "import torch\n",
        "import torch.nn.functional as F\n",
        "import time\n",
        "import os\n",
        "import subprocess\n",
        "from torchvision import datasets\n",
        "from torchvision.models import (\n",
        "    efficientnet_v2_s, EfficientNet_V2_S_Weights,\n",
        "    resnet50, ResNet50_Weights,\n",
        "    densenet201, DenseNet201_Weights,\n",
        "    convnext_tiny, ConvNeXt_Tiny_Weights,\n",
        "    mobilenet_v3_large, MobileNet_V3_Large_Weights\n",
        ")\n",
        "from torch.utils.data import DataLoader\n",
        "from codecarbon import EmissionsTracker\n",
        "import ood_metrics as om\n",
        "import pandas as pd\n",
        "\n",
        "device = torch.device(\"cuda\" if torch.cuda.is_available() else \"cpu\")\n",
        "imagenet_path = \"/content/imagenet1kv1_valid\"\n",
        "imagenet_ood_path = \"/content/ood/imagenet-o\"\n",
        "batch_size = 128\n"
      ]
    },
    {
      "cell_type": "markdown",
      "id": "96a08fa9",
      "metadata": {
        "id": "96a08fa9"
      },
      "source": [
        "## Konfiguracja modeli"
      ]
    },
    {
      "cell_type": "code",
      "execution_count": null,
      "id": "7ab5eb5d",
      "metadata": {
        "id": "7ab5eb5d"
      },
      "outputs": [],
      "source": [
        "MODEL_CONFIGS = {\n",
        "    \"efficientnet_v2_s\":  (efficientnet_v2_s,   EfficientNet_V2_S_Weights.IMAGENET1K_V1),\n",
        "    \"resnet50\":           (resnet50,            ResNet50_Weights.IMAGENET1K_V1),\n",
        "    \"densenet201\":        (densenet201,         DenseNet201_Weights.IMAGENET1K_V1),\n",
        "    \"convnext_tiny\":      (convnext_tiny,       ConvNeXt_Tiny_Weights.IMAGENET1K_V1),\n",
        "    \"mobilenet_v3_large\": (mobilenet_v3_large,  MobileNet_V3_Large_Weights.IMAGENET1K_V1),\n",
        "}"
      ]
    },
    {
      "cell_type": "markdown",
      "id": "9efaf08a",
      "metadata": {
        "id": "9efaf08a"
      },
      "source": [
        "## Funkcje pomocnicze"
      ]
    },
    {
      "cell_type": "code",
      "execution_count": null,
      "id": "8510a8d5",
      "metadata": {
        "id": "8510a8d5"
      },
      "outputs": [],
      "source": [
        "def get_gpu_stats():\n",
        "    try:\n",
        "        smi = subprocess.check_output([\n",
        "            \"nvidia-smi\", \"--query-gpu=utilization.gpu,memory.used,memory.total\",\n",
        "            \"--format=csv,noheader,nounits\"\n",
        "        ]).decode().strip().split(\"\\n\")[0]\n",
        "        util, used, total = map(float, smi.split(\",\"))\n",
        "        return util, used, total\n",
        "    except:\n",
        "        return float(\"nan\"), float(\"nan\"), float(\"nan\")\n",
        "\n",
        "def make_loader(path, transform, batch_size):\n",
        "    dataset = datasets.ImageFolder(path, transform=transform)\n",
        "    return DataLoader(dataset, batch_size=batch_size, shuffle=False, num_workers=2, pin_memory=True)\n",
        "\n",
        "def validate(model_fn, weights, loader, tag, model_name):\n",
        "    model = model_fn(weights=weights).to(device).eval()\n",
        "\n",
        "    if os.path.exists(\"/tmp/.codecarbon.lock\"):\n",
        "        os.remove(\"/tmp/.codecarbon.lock\")\n",
        "    tracker = EmissionsTracker(project_name=f\"{model_name}_{tag}\", log_level=\"error\")\n",
        "    tracker.start()\n",
        "\n",
        "    if device.type == \"cuda\":\n",
        "        torch.cuda.reset_peak_memory_stats()\n",
        "    start = time.time()\n",
        "\n",
        "    logits_list = []\n",
        "    with torch.no_grad():\n",
        "        for x, _ in loader:\n",
        "            x = x.to(device)\n",
        "            logits = model(x)\n",
        "            logits_list.append(logits.cpu().numpy())\n",
        "\n",
        "    duration = time.time() - start\n",
        "    peak_mem = torch.cuda.max_memory_allocated() / 1024**2 if device.type == \"cuda\" else 0\n",
        "    emissions = tracker.stop()\n",
        "    gpu_util, gpu_mem_used, gpu_mem_total = get_gpu_stats()\n",
        "\n",
        "    return np.vstack(logits_list), duration, peak_mem, emissions, gpu_util, gpu_mem_used, gpu_mem_total"
      ]
    },
    {
      "cell_type": "markdown",
      "id": "8c64ab55",
      "metadata": {
        "id": "8c64ab55"
      },
      "source": [
        "## Pętla po modelach (InD vs OOD – ImageNet-O)"
      ]
    },
    {
      "cell_type": "code",
      "execution_count": null,
      "id": "bbb36a29",
      "metadata": {
        "colab": {
          "base_uri": "https://localhost:8080/"
        },
        "id": "bbb36a29",
        "outputId": "e1451384-72ea-4c92-b758-ce80e74305da"
      },
      "outputs": [],
      "source": [
        "results = []\n",
        "\n",
        "for model_name, (model_fn, weights) in MODEL_CONFIGS.items():\n",
        "    transform = weights.transforms()\n",
        "    ind_loader = make_loader(imagenet_path, transform, batch_size)\n",
        "    ood_loader = make_loader(imagenet_ood_path, transform, batch_size)\n",
        "\n",
        "    ind_logits, ind_time, _, ind_co2, _, ind_mem_used, _ = validate(model_fn, weights, ind_loader, \"InD\", model_name)\n",
        "    ood_logits, ood_time, _, ood_co2, _, ood_mem_used, _ = validate(model_fn, weights, ood_loader, \"OOD\", model_name)\n",
        "\n",
        "    ind_msp = -F.softmax(torch.tensor(ind_logits), dim=1).max(1).values.numpy()\n",
        "    ood_msp = -F.softmax(torch.tensor(ood_logits), dim=1).max(1).values.numpy()\n",
        "    msp_metrics = om.calc_metrics(np.concatenate([ind_msp, ood_msp]), np.array([0]*len(ind_msp) + [1]*len(ood_msp)))\n",
        "\n",
        "    ind_energy = -torch.logsumexp(torch.tensor(ind_logits), dim=1).numpy()\n",
        "    ood_energy = -torch.logsumexp(torch.tensor(ood_logits), dim=1).numpy()\n",
        "    energy_metrics = om.calc_metrics(np.concatenate([ind_energy, ood_energy]), np.array([0]*len(ind_energy) + [1]*len(ood_energy)))\n",
        "\n",
        "    results.append({\n",
        "        \"model\": model_name,\n",
        "        \"msp_auroc\": msp_metrics.get(\"auroc\", float(\"nan\")),\n",
        "        \"msp_fpr@95\": msp_metrics.get(\"fpr_at_95_tpr\", float(\"nan\")),\n",
        "        \"msp_det_error\": msp_metrics.get(\"detection_error\", float(\"nan\")),\n",
        "        \"energy_auroc\": energy_metrics.get(\"auroc\", float(\"nan\")),\n",
        "        \"energy_fpr@95\": energy_metrics.get(\"fpr_at_95_tpr\", float(\"nan\")),\n",
        "        \"energy_det_error\": energy_metrics.get(\"detection_error\", float(\"nan\")),\n",
        "        \"ind_time_s\": ind_time,\n",
        "        \"ind_mem_mb\": ind_mem_used,\n",
        "        \"ind_co2_kg\": ind_co2,\n",
        "        \"ood_time_s\": ood_time,\n",
        "        \"ood_mem_mb\": ood_mem_used,\n",
        "        \"ood_co2_kg\": ood_co2\n",
        "    })"
      ]
    },
    {
      "cell_type": "markdown",
      "id": "fdaa0ed1",
      "metadata": {
        "id": "fdaa0ed1"
      },
      "source": [
        "## Wyniki końcowe"
      ]
    },
    {
      "cell_type": "code",
      "execution_count": null,
      "id": "12c65c83",
      "metadata": {
        "colab": {
          "base_uri": "https://localhost:8080/"
        },
        "id": "12c65c83",
        "outputId": "87a88977-bd29-4c5e-d95f-834f0babc270"
      },
      "outputs": [],
      "source": [
        "import pandas as pd\n",
        "df = pd.DataFrame(results)\n",
        "df"
      ]
    }
  ],
  "metadata": {
    "accelerator": "GPU",
    "colab": {
      "gpuType": "T4",
      "provenance": []
    },
    "kernelspec": {
      "display_name": "Python 3",
      "name": "python3"
    },
    "language_info": {
      "name": "python"
    }
  },
  "nbformat": 4,
  "nbformat_minor": 5
}
